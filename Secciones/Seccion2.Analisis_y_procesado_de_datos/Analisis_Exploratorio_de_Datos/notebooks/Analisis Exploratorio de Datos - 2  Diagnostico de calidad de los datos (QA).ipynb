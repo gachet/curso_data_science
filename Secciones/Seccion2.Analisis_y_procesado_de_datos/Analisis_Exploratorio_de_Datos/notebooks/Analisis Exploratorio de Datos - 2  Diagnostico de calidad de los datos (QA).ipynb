{
 "cells": [
  {
   "cell_type": "code",
   "execution_count": 28,
   "metadata": {},
   "outputs": [
    {
     "name": "stdout",
     "output_type": "stream",
     "text": [
      "The watermark extension is already loaded. To reload it, use:\n",
      "  %reload_ext watermark\n",
      "2017-08-15T17:01:57+02:00\n",
      "\n",
      "CPython 3.6.1\n",
      "IPython 5.3.0\n",
      "\n",
      "compiler   : GCC 4.8.2 20140120 (Red Hat 4.8.2-15)\n",
      "system     : Linux\n",
      "release    : 4.10.0-32-generic\n",
      "machine    : x86_64\n",
      "processor  : x86_64\n",
      "CPU cores  : 8\n",
      "interpreter: 64bit\n"
     ]
    }
   ],
   "source": [
    "%load_ext watermark\n",
    "%watermark"
   ]
  },
  {
   "cell_type": "code",
   "execution_count": 2,
   "metadata": {
    "collapsed": true
   },
   "outputs": [],
   "source": [
    "import pandas as pd"
   ]
  },
  {
   "cell_type": "markdown",
   "metadata": {},
   "source": [
    "La magia de matplotlib matplotlib notebook, es muy util para hacer plots mas visibles, pero es un poco complicada de usar ya que requiere el cerrar cada plot para poder continuar.\n",
    "\n",
    "Alternativamente, se puede usar la magia %matplotlib inline, que es más sencilla ya que simplemente muestra el gráfico original en el jupyter notebook. Para modificar el tamaño de los plots en este caso basta con cambiar el parámetro general de matplotlib figure.figsize al tamaño de gráfico deseado (en pulgadas)\n"
   ]
  },
  {
   "cell_type": "code",
   "execution_count": 30,
   "metadata": {},
   "outputs": [],
   "source": [
    "%matplotlib inline\n",
    "import matplotlib.pyplot as plt\n",
    "\n",
    "plt.rcParams['figure.figsize'] = (12,12) # 10 pulgadas de ancho y 10 de alto para todos los plots"
   ]
  },
  {
   "cell_type": "markdown",
   "metadata": {},
   "source": [
    "En este apartado vamos a revisar el dataset. El objetivo sera tener un dataset lo mas parecido al original pero sin fallos en el mismo que puedan llevarnos a sacar conclusiones erroneas.\n",
    "\n",
    "El input de este paso es el output del anterior"
   ]
  },
  {
   "cell_type": "code",
   "execution_count": 31,
   "metadata": {
    "collapsed": true
   },
   "outputs": [],
   "source": [
    "vehiculos = pd.read_csv(\"../data/vehiculos.1.procesado_inicial.csv\")"
   ]
  },
  {
   "cell_type": "code",
   "execution_count": 32,
   "metadata": {},
   "outputs": [
    {
     "data": {
      "text/plain": [
       "(38436, 11)"
      ]
     },
     "execution_count": 32,
     "metadata": {},
     "output_type": "execute_result"
    }
   ],
   "source": [
    "vehiculos.shape"
   ]
  },
  {
   "cell_type": "markdown",
   "metadata": {},
   "source": [
    "### Duplicados\n",
    "\n",
    "En este apartado se intentan ver dos cosas:\n",
    "\n",
    "* Asegurarse de que datos que no debieran estar duplicados no lo están (por ejemplo, numeros de telefono)\n",
    "\n",
    "* Revisar  si hay columnas que tengan un alto numero de duplicados, ya que pueden no aportar mucha informacion\n",
    "\n",
    "Recordemos que las entidades posibles eran:   \n",
    "    \n",
    "    fabricante\n",
    "    fabricante-modelo\n",
    "    fabricante-modelo-año\n",
    "    fabricante-año\n",
    "\n",
    "De estas entidades, las unicas que no se deberian repetir coches especificos, es decir, fabricante+modelo +año"
   ]
  },
  {
   "cell_type": "code",
   "execution_count": 33,
   "metadata": {},
   "outputs": [],
   "source": [
    "vehiculos['modelo_unico'] = vehiculos.fabricante.str.cat([vehiculos.modelo, vehiculos.year.apply(str)],sep='-')"
   ]
  },
  {
   "cell_type": "code",
   "execution_count": 34,
   "metadata": {
    "scrolled": true
   },
   "outputs": [
    {
     "data": {
      "text/plain": [
       "Jeep-Cherokee/Wagoneer-1985                    24\n",
       "Chevrolet-C10 Pickup 2WD-1984                  19\n",
       "GMC-C15 Pickup 2WD-1984                        19\n",
       "Ford-F150 Pickup 2WD-1984                      19\n",
       "Chevrolet-C10 Pickup 2WD-1985                  18\n",
       "GMC-S15 Pickup 2WD-1984                        18\n",
       "Chevrolet-S10 Pickup 2WD-1984                  18\n",
       "GMC-C15 Pickup 2WD-1985                        18\n",
       "Mitsubishi-Truck 2WD-1984                      17\n",
       "Ford-Ranger Pickup 2WD-1984                    17\n",
       "Dodge-Ram 50 Pickup 2WD-1984                   17\n",
       "GMC-C15 Pickup 2WD-1986                        17\n",
       "Chevrolet-C10 Pickup 2WD-1986                  17\n",
       "Mercury-Lynx-1984                              16\n",
       "Ford-Escort-1984                               16\n",
       "Ford-F150 Pickup 2WD-1985                      16\n",
       "Volkswagen-Rabbit-1984                         16\n",
       "Ford-Escort-1985                               16\n",
       "Chevrolet-G10/20 Van 2WD-1984                  16\n",
       "GMC-Vandura G15/25 2WD-1984                    16\n",
       "Ford-F150 Pickup 4WD-1984                      15\n",
       "Ford-E150 Econoline 2WD-1984                   15\n",
       "Volkswagen-Jetta-1984                          15\n",
       "Dodge-D100/D150 Pickup 2WD-1985                15\n",
       "Ford-Bronco 4WD-1984                           15\n",
       "Ford-F250 Pickup 2WD-1985                      15\n",
       "Dodge-600-1984                                 14\n",
       "GMC-S15 Pickup 2WD-1985                        14\n",
       "Volvo-240 DL/GL/Turbo-1984                     14\n",
       "Dodge-D100/D150 Pickup 2WD-1987                14\n",
       "                                               ..\n",
       "Rolls-Royce-Brooklands and (LWB)-1994           1\n",
       "BMW-640i Gran Coupe-2013                        1\n",
       "GMC-Sierra K15 AWD-2012                         1\n",
       "Maserati-Levante S-2017                         1\n",
       "E. P. Dutton, Inc.-Funeral Coach-1985           1\n",
       "Lotus-Evora-2010                                1\n",
       "Fiat-500e-2016                                  1\n",
       "Lexus-LC 500-2018                               1\n",
       "GMC-Savana 2500 2WD Conversion (cargo)-2012     1\n",
       "BMW-M Roadster-1998                             1\n",
       "GMC-Savana 1500 2WD Conversion (cargo)-2014     1\n",
       "Toyota-Sienna 2WD-2006                          1\n",
       "Porsche-Panamera 4 Executive-2017               1\n",
       "Lexus-RX 300 4WD-2003                           1\n",
       "Mercedes-Benz-ML350 4matic-2008                 1\n",
       "Infiniti-FX35 AWD-2008                          1\n",
       "Cadillac-Escalade 2WD FFV-2010                  1\n",
       "Suzuki-Swift GA-1989                            1\n",
       "Jaguar-XJ12-1994                                1\n",
       "BMW-X3 xDrive28i-2011                           1\n",
       "McLaren Automotive-650S Spider-2015             1\n",
       "Lexus-GS 350-2011                               1\n",
       "Nissan-NV200 NYC Taxi-2016                      1\n",
       "Chevrolet-Silverado 15 Hybrid 4WD-2005          1\n",
       "Mercedes-Benz-600SEL-1992                       1\n",
       "Cadillac-XTS AWD-2013                           1\n",
       "Mercedes-Benz-E63 AMG (wagon)-2009              1\n",
       "Jaguar-XJ AWD-2014                              1\n",
       "Jaguar-XJS-1984                                 1\n",
       "Land Rover-LR4-2011                             1\n",
       "Name: modelo_unico, Length: 17448, dtype: int64"
      ]
     },
     "execution_count": 34,
     "metadata": {},
     "output_type": "execute_result"
    }
   ],
   "source": [
    "vehiculos.modelo_unico.value_counts()"
   ]
  },
  {
   "cell_type": "markdown",
   "metadata": {},
   "source": [
    "Nos damos cuenta de que hay muchos repetidos, veamos un ejemplo"
   ]
  },
  {
   "cell_type": "code",
   "execution_count": 8,
   "metadata": {},
   "outputs": [
    {
     "data": {
      "text/html": [
       "<div>\n",
       "<style>\n",
       "    .dataframe thead tr:only-child th {\n",
       "        text-align: right;\n",
       "    }\n",
       "\n",
       "    .dataframe thead th {\n",
       "        text-align: left;\n",
       "    }\n",
       "\n",
       "    .dataframe tbody tr th {\n",
       "        vertical-align: top;\n",
       "    }\n",
       "</style>\n",
       "<table border=\"1\" class=\"dataframe\">\n",
       "  <thead>\n",
       "    <tr style=\"text-align: right;\">\n",
       "      <th></th>\n",
       "      <th>fabricante</th>\n",
       "      <th>modelo</th>\n",
       "      <th>year</th>\n",
       "      <th>desplazamiento</th>\n",
       "      <th>cilindros</th>\n",
       "      <th>transmision</th>\n",
       "      <th>traccion</th>\n",
       "      <th>clase</th>\n",
       "      <th>combustible</th>\n",
       "      <th>consumo</th>\n",
       "      <th>co2</th>\n",
       "      <th>modelo_unico</th>\n",
       "    </tr>\n",
       "  </thead>\n",
       "  <tbody>\n",
       "    <tr>\n",
       "      <th>4957</th>\n",
       "      <td>Chevrolet</td>\n",
       "      <td>C1500 Pickup 2WD</td>\n",
       "      <td>1991</td>\n",
       "      <td>4.3</td>\n",
       "      <td>6.0</td>\n",
       "      <td>Automatic 4-spd</td>\n",
       "      <td>Rear-Wheel Drive</td>\n",
       "      <td>Standard Pickup Trucks</td>\n",
       "      <td>Regular</td>\n",
       "      <td>17</td>\n",
       "      <td>522.764706</td>\n",
       "      <td>Chevrolet-C1500 Pickup 2WD-1991</td>\n",
       "    </tr>\n",
       "    <tr>\n",
       "      <th>4958</th>\n",
       "      <td>Chevrolet</td>\n",
       "      <td>C1500 Pickup 2WD</td>\n",
       "      <td>1991</td>\n",
       "      <td>4.3</td>\n",
       "      <td>6.0</td>\n",
       "      <td>Manual 4-spd</td>\n",
       "      <td>Rear-Wheel Drive</td>\n",
       "      <td>Standard Pickup Trucks</td>\n",
       "      <td>Regular</td>\n",
       "      <td>17</td>\n",
       "      <td>522.764706</td>\n",
       "      <td>Chevrolet-C1500 Pickup 2WD-1991</td>\n",
       "    </tr>\n",
       "    <tr>\n",
       "      <th>4959</th>\n",
       "      <td>Chevrolet</td>\n",
       "      <td>C1500 Pickup 2WD</td>\n",
       "      <td>1991</td>\n",
       "      <td>4.3</td>\n",
       "      <td>6.0</td>\n",
       "      <td>Manual 5-spd</td>\n",
       "      <td>Rear-Wheel Drive</td>\n",
       "      <td>Standard Pickup Trucks</td>\n",
       "      <td>Regular</td>\n",
       "      <td>17</td>\n",
       "      <td>522.764706</td>\n",
       "      <td>Chevrolet-C1500 Pickup 2WD-1991</td>\n",
       "    </tr>\n",
       "    <tr>\n",
       "      <th>4960</th>\n",
       "      <td>Chevrolet</td>\n",
       "      <td>C1500 Pickup 2WD</td>\n",
       "      <td>1991</td>\n",
       "      <td>4.3</td>\n",
       "      <td>6.0</td>\n",
       "      <td>Manual 5-spd</td>\n",
       "      <td>Rear-Wheel Drive</td>\n",
       "      <td>Standard Pickup Trucks</td>\n",
       "      <td>Regular</td>\n",
       "      <td>17</td>\n",
       "      <td>522.764706</td>\n",
       "      <td>Chevrolet-C1500 Pickup 2WD-1991</td>\n",
       "    </tr>\n",
       "    <tr>\n",
       "      <th>4961</th>\n",
       "      <td>Chevrolet</td>\n",
       "      <td>C1500 Pickup 2WD</td>\n",
       "      <td>1991</td>\n",
       "      <td>5.0</td>\n",
       "      <td>8.0</td>\n",
       "      <td>Automatic 4-spd</td>\n",
       "      <td>Rear-Wheel Drive</td>\n",
       "      <td>Standard Pickup Trucks</td>\n",
       "      <td>Regular</td>\n",
       "      <td>15</td>\n",
       "      <td>592.466667</td>\n",
       "      <td>Chevrolet-C1500 Pickup 2WD-1991</td>\n",
       "    </tr>\n",
       "  </tbody>\n",
       "</table>\n",
       "</div>"
      ],
      "text/plain": [
       "     fabricante            modelo  year  desplazamiento  cilindros  \\\n",
       "4957  Chevrolet  C1500 Pickup 2WD  1991             4.3        6.0   \n",
       "4958  Chevrolet  C1500 Pickup 2WD  1991             4.3        6.0   \n",
       "4959  Chevrolet  C1500 Pickup 2WD  1991             4.3        6.0   \n",
       "4960  Chevrolet  C1500 Pickup 2WD  1991             4.3        6.0   \n",
       "4961  Chevrolet  C1500 Pickup 2WD  1991             5.0        8.0   \n",
       "\n",
       "          transmision          traccion                   clase combustible  \\\n",
       "4957  Automatic 4-spd  Rear-Wheel Drive  Standard Pickup Trucks     Regular   \n",
       "4958     Manual 4-spd  Rear-Wheel Drive  Standard Pickup Trucks     Regular   \n",
       "4959     Manual 5-spd  Rear-Wheel Drive  Standard Pickup Trucks     Regular   \n",
       "4960     Manual 5-spd  Rear-Wheel Drive  Standard Pickup Trucks     Regular   \n",
       "4961  Automatic 4-spd  Rear-Wheel Drive  Standard Pickup Trucks     Regular   \n",
       "\n",
       "      consumo         co2                     modelo_unico  \n",
       "4957       17  522.764706  Chevrolet-C1500 Pickup 2WD-1991  \n",
       "4958       17  522.764706  Chevrolet-C1500 Pickup 2WD-1991  \n",
       "4959       17  522.764706  Chevrolet-C1500 Pickup 2WD-1991  \n",
       "4960       17  522.764706  Chevrolet-C1500 Pickup 2WD-1991  \n",
       "4961       15  592.466667  Chevrolet-C1500 Pickup 2WD-1991  "
      ]
     },
     "execution_count": 8,
     "metadata": {},
     "output_type": "execute_result"
    }
   ],
   "source": [
    "vehiculos[vehiculos.modelo_unico=='Chevrolet-C1500 Pickup 2WD-1991'].head()"
   ]
  },
  {
   "cell_type": "markdown",
   "metadata": {},
   "source": [
    "Como vemos , cada modelo unico tiene diferentes configuraciones de cada coche (3 velocidades o 4 por ejemplo)\n",
    "\n",
    "Por lo tanto, solo vamos a considerar duplicados aquellos records que sean idénticos en todas sus columnas"
   ]
  },
  {
   "cell_type": "code",
   "execution_count": 9,
   "metadata": {},
   "outputs": [
    {
     "data": {
      "text/plain": [
       "(1506, 12)"
      ]
     },
     "execution_count": 9,
     "metadata": {},
     "output_type": "execute_result"
    }
   ],
   "source": [
    "vehiculos[vehiculos.duplicated()].shape"
   ]
  },
  {
   "cell_type": "markdown",
   "metadata": {},
   "source": [
    "Vemos que hay 1506 records duplicados, podemos eliminarlos para el resto del análisis ya que pueden distorsionar las conclusiones"
   ]
  },
  {
   "cell_type": "code",
   "execution_count": 10,
   "metadata": {},
   "outputs": [
    {
     "data": {
      "text/plain": [
       "(36930, 12)"
      ]
     },
     "execution_count": 10,
     "metadata": {},
     "output_type": "execute_result"
    }
   ],
   "source": [
    "vehiculos = vehiculos.drop_duplicates()\n",
    "vehiculos.shape"
   ]
  },
  {
   "cell_type": "markdown",
   "metadata": {},
   "source": [
    "Borramos la columna `modelo_unico`"
   ]
  },
  {
   "cell_type": "code",
   "execution_count": 11,
   "metadata": {
    "collapsed": true
   },
   "outputs": [],
   "source": [
    "del vehiculos['modelo_unico']"
   ]
  },
  {
   "cell_type": "markdown",
   "metadata": {},
   "source": [
    "Ahora falta ver si hay variables en las que haya una gran cantidad de records que tengan el mismo valor (cardinalidad)."
   ]
  },
  {
   "cell_type": "code",
   "execution_count": 12,
   "metadata": {},
   "outputs": [
    {
     "name": "stdout",
     "output_type": "stream",
     "text": [
      "fabricante | 0.1-0.0 | object\n",
      "modelo | 0.005-0.0 | object\n",
      "year | 0.038-0.007 | int64\n",
      "desplazamiento | 0.095-0.0 | float64\n",
      "cilindros | 0.38-0.0 | float64\n",
      "transmision | 0.287-0.0 | object\n",
      "traccion | 0.353-0.005 | object\n",
      "clase | 0.145-0.0 | object\n",
      "combustible | 0.652-0.0 | object\n",
      "consumo | 0.097-0.0 | int64\n",
      "co2 | 0.084-0.0 | float64\n"
     ]
    }
   ],
   "source": [
    "n_records = len(vehiculos)\n",
    "def valores_duplicados_col(df):\n",
    "    for columna in df:\n",
    "        n_por_valor = df[columna].value_counts()\n",
    "        mas_comun = n_por_valor.iloc[0]\n",
    "        menos_comun = n_por_valor.iloc[-1]\n",
    "        print(\"{} | {}-{} | {}\".format(\n",
    "            df[columna].name,\n",
    "            round(mas_comun / (1.0*n_records),3),\n",
    "            round(menos_comun / (1.0*n_records),3),\n",
    "            df[columna].dtype\n",
    "        ))\n",
    "\n",
    "valores_duplicados_col(vehiculos)"
   ]
  },
  {
   "cell_type": "markdown",
   "metadata": {},
   "source": [
    "Vemos que los campos `traccion, transmission, cilindros y combustible` pueden tener un problema de valores repetidos, en realidad 30% no es algo muy dramatico, seria distinto si el valor mas comun tuviera un 90%."
   ]
  },
  {
   "cell_type": "code",
   "execution_count": 36,
   "metadata": {},
   "outputs": [
    {
     "data": {
      "text/plain": [
       "Front-Wheel Drive             0.360754\n",
       "Rear-Wheel Drive              0.351814\n",
       "4-Wheel or All-Wheel Drive    0.178484\n",
       "All-Wheel Drive               0.060515\n",
       "4-Wheel Drive                 0.030043\n",
       "2-Wheel Drive                 0.013612\n",
       "Part-time 4-Wheel Drive       0.004779\n",
       "Name: traccion, dtype: float64"
      ]
     },
     "execution_count": 36,
     "metadata": {},
     "output_type": "execute_result"
    }
   ],
   "source": [
    "vehiculos.traccion.value_counts(normalize=True)"
   ]
  },
  {
   "cell_type": "markdown",
   "metadata": {},
   "source": [
    "Vemos que esto tiene sentido, ya que la inmensa mayoria de vehiculos tienen traccion a dos ruedas, sean delanteras o traseras. \n",
    "\n",
    "En este caso alguien con conocimiento de dominio podria darse cuenta de que probablemente 2-Wheel Drive sea simplemente una clasificacion distinta de Front o Rear. \n",
    "\n",
    "https://www.edmunds.com/car-technology/what-wheel-drive.html"
   ]
  },
  {
   "cell_type": "code",
   "execution_count": 14,
   "metadata": {},
   "outputs": [
    {
     "data": {
      "image/png": "[encoded data removed]",
      "text/plain": [
       "<matplotlib.figure.Figure at 0x7ff4bd4d7358>"
      ]
     },
     "metadata": {},
     "output_type": "display_data"
    }
   ],
   "source": [
    "vehiculos.transmision.value_counts(normalize=True).plot.barh();"
   ]
  },
  {
   "cell_type": "markdown",
   "metadata": {},
   "source": [
    "Vemos que aunque transmisión tenga una cardinalidad relativamente alta, en realidad muestra una distribución de tipos, con dos clases mayoritarias"
   ]
  },
  {
   "cell_type": "code",
   "execution_count": 15,
   "metadata": {},
   "outputs": [
    {
     "data": {
      "image/png": "[encoded data removed]",
      "text/plain": [
       "<matplotlib.figure.Figure at 0x7ff4bd1caa20>"
      ]
     },
     "metadata": {},
     "output_type": "display_data"
    }
   ],
   "source": [
    "vehiculos.cilindros.hist();"
   ]
  },
  {
   "cell_type": "code",
   "execution_count": 16,
   "metadata": {},
   "outputs": [
    {
     "data": {
      "image/png": "[encoded data removed]",
      "text/plain": [
       "<matplotlib.figure.Figure at 0x7ff4bd077518>"
      ]
     },
     "metadata": {},
     "output_type": "display_data"
    }
   ],
   "source": [
    "vehiculos.combustible.value_counts(normalize=True).plot.barh();"
   ]
  },
  {
   "cell_type": "markdown",
   "metadata": {},
   "source": [
    "Vemos que la columna `combustible` si puede tener un problema al tener el 65% de los casos gasolina `Regular`"
   ]
  },
  {
   "cell_type": "markdown",
   "metadata": {},
   "source": [
    "### Valores inexistentes"
   ]
  },
  {
   "cell_type": "code",
   "execution_count": 17,
   "metadata": {},
   "outputs": [
    {
     "name": "stdout",
     "output_type": "stream",
     "text": [
      "fabricante | 0.0 | object\n",
      "modelo | 0.0 | object\n",
      "year | 0.0 | int64\n",
      "desplazamiento | 0.0037909558624424585 | float64\n",
      "cilindros | 0.003845112374763065 | float64\n",
      "transmision | 0.00029786081776333605 | object\n",
      "traccion | 0.02158137015976171 | object\n",
      "clase | 0.0 | object\n",
      "combustible | 0.0 | object\n",
      "consumo | 0.0 | int64\n",
      "co2 | 0.0 | float64\n"
     ]
    }
   ],
   "source": [
    "n_records = len(vehiculos)\n",
    "def valores_inexistentes_col(df):\n",
    "    for columna in df:\n",
    "        print(\"{} | {} | {}\".format(\n",
    "            df[columna].name, len(df[df[columna].isnull()]) / (1.0*n_records), df[columna].dtype\n",
    "        ))\n",
    "\n",
    "valores_inexistentes_col(vehiculos)"
   ]
  },
  {
   "cell_type": "markdown",
   "metadata": {},
   "source": [
    "Vemos que campo `traccion, cilindros y transmision` tienen valores inexistentes. Sin embargo son cantidades despreciables (maximo es la variable traccion con un 3% inexistente)\n"
   ]
  },
  {
   "cell_type": "markdown",
   "metadata": {},
   "source": [
    "### Valores extremos (outliers)"
   ]
  },
  {
   "cell_type": "markdown",
   "metadata": {},
   "source": [
    "Para detectar valores extremos una medida general es considerar outliers aquellos valores con una puntuación Z (z score) mayor de 3, esto es, que se alejan 3 veces o mas desviaciones standard de la media.\n",
    "\n",
    "El z score se define como:\n",
    "\n",
    "$$z(x)= \\frac{x-\\mu}{\\sigma}$$"
   ]
  },
  {
   "cell_type": "code",
   "execution_count": 18,
   "metadata": {},
   "outputs": [
    {
     "name": "stdout",
     "output_type": "stream",
     "text": [
      "year | 0 | int64\n",
      "desplazamiento | 0 | float64\n",
      "cilindros | 0 | float64\n",
      "consumo | 233 | int64\n",
      "co2 | 358 | float64\n"
     ]
    },
    {
     "name": "stderr",
     "output_type": "stream",
     "text": [
      "/home/manuel/anaconda3/envs/data/lib/python3.6/site-packages/ipykernel/__main__.py:7: RuntimeWarning: invalid value encountered in greater\n"
     ]
    }
   ],
   "source": [
    "from scipy import stats\n",
    "import numpy as np\n",
    "\n",
    "def outliers_col(df):\n",
    "    for columna in df:\n",
    "        if vehiculos[columna].dtype != np.object:\n",
    "            n_outliers = len(vehiculos[np.abs(stats.zscore(vehiculos[columna])) > 3])    \n",
    "            print(\"{} | {} | {}\".format(\n",
    "                df[columna].name,\n",
    "                n_outliers,\n",
    "                df[columna].dtype\n",
    "        ))\n",
    "\n",
    "outliers_col(vehiculos)"
   ]
  },
  {
   "cell_type": "markdown",
   "metadata": {},
   "source": [
    "Vemos que las variables de consumo y co2 tienen outliers. Podemos hacer un boxplot para visualizar esto mejor"
   ]
  },
  {
   "cell_type": "code",
   "execution_count": 19,
   "metadata": {},
   "outputs": [
    {
     "data": {
      "image/png": "[encoded data removed]",
      "text/plain": [
       "<matplotlib.figure.Figure at 0x7ff4bd0949e8>"
      ]
     },
     "metadata": {},
     "output_type": "display_data"
    }
   ],
   "source": [
    "vehiculos.boxplot(column='consumo');"
   ]
  },
  {
   "cell_type": "code",
   "execution_count": 20,
   "metadata": {},
   "outputs": [
    {
     "data": {
      "image/png": "[encoded data removed]",
      "text/plain": [
       "<matplotlib.figure.Figure at 0x7ff4b306ff28>"
      ]
     },
     "metadata": {},
     "output_type": "display_data"
    }
   ],
   "source": [
    "vehiculos.boxplot(column='co2');"
   ]
  },
  {
   "cell_type": "markdown",
   "metadata": {},
   "source": [
    "Vemos que en cuanto a consumo hay algunos coches que contaminan mas de lo normal y otros que contaminan menos de lo normal, tambien vemos que hay coches que no contaminan nada!\n",
    "\n",
    "Es posible que haya coches que no usen gasolina en el dataset?"
   ]
  },
  {
   "cell_type": "code",
   "execution_count": 21,
   "metadata": {},
   "outputs": [
    {
     "data": {
      "text/plain": [
       "array(['Electricity'], dtype=object)"
      ]
     },
     "execution_count": 21,
     "metadata": {},
     "output_type": "execute_result"
    }
   ],
   "source": [
    "vehiculos[vehiculos.co2==0].combustible.unique()"
   ]
  },
  {
   "cell_type": "code",
   "execution_count": 22,
   "metadata": {},
   "outputs": [
    {
     "data": {
      "text/plain": [
       "array(['Regular', 'Premium', 'Diesel', 'Premium and Electricity',\n",
       "       'Premium or E85', 'Electricity', 'Premium Gas or Electricity',\n",
       "       'Gasoline or E85', 'Gasoline or natural gas', 'CNG',\n",
       "       'Regular Gas or Electricity', 'Midgrade',\n",
       "       'Regular Gas and Electricity', 'Gasoline or propane'], dtype=object)"
      ]
     },
     "execution_count": 22,
     "metadata": {},
     "output_type": "execute_result"
    }
   ],
   "source": [
    "vehiculos.combustible.unique()"
   ]
  },
  {
   "cell_type": "markdown",
   "metadata": {},
   "source": [
    "Vemos que en este dataset hay vehiculos hibridos y vehiculos electricos puros. Dado que el objetivo es la contaminacion, convendria remover al menos aquellos vehiculos que no contaminan!"
   ]
  },
  {
   "cell_type": "code",
   "execution_count": 23,
   "metadata": {
    "collapsed": true
   },
   "outputs": [],
   "source": [
    "vehiculos_no_electricos = vehiculos[vehiculos.co2>0]"
   ]
  },
  {
   "cell_type": "markdown",
   "metadata": {},
   "source": [
    "Ya que hemos descubierto esto, volvamos a revisar los datos con el nuevo dataset"
   ]
  },
  {
   "cell_type": "code",
   "execution_count": 24,
   "metadata": {},
   "outputs": [
    {
     "name": "stdout",
     "output_type": "stream",
     "text": [
      "year | 0 | int64\n",
      "desplazamiento | 0 | float64\n",
      "cilindros | 0 | float64\n",
      "consumo | 233 | int64\n",
      "co2 | 358 | float64\n"
     ]
    },
    {
     "name": "stderr",
     "output_type": "stream",
     "text": [
      "/home/manuel/anaconda3/envs/data/lib/python3.6/site-packages/ipykernel/__main__.py:7: RuntimeWarning: invalid value encountered in greater\n"
     ]
    }
   ],
   "source": [
    "outliers_col(vehiculos_no_electricos)"
   ]
  },
  {
   "cell_type": "code",
   "execution_count": 25,
   "metadata": {},
   "outputs": [
    {
     "name": "stdout",
     "output_type": "stream",
     "text": [
      "fabricante | 0.099-0.0 | object\n",
      "modelo | 0.005-0.0 | object\n",
      "year | 0.038-0.007 | int64\n",
      "desplazamiento | 0.095-0.0 | float64\n",
      "cilindros | 0.38-0.0 | float64\n",
      "transmision | 0.287-0.0 | object\n",
      "traccion | 0.351-0.005 | object\n",
      "clase | 0.145-0.0 | object\n",
      "combustible | 0.652-0.0 | object\n",
      "consumo | 0.097-0.0 | int64\n",
      "co2 | 0.084-0.0 | float64\n"
     ]
    }
   ],
   "source": [
    "valores_duplicados_col(vehiculos_no_electricos)"
   ]
  },
  {
   "cell_type": "markdown",
   "metadata": {},
   "source": [
    "### Valores inexistentes"
   ]
  },
  {
   "cell_type": "code",
   "execution_count": 26,
   "metadata": {},
   "outputs": [
    {
     "name": "stdout",
     "output_type": "stream",
     "text": [
      "fabricante | 0.0 | object\n",
      "modelo | 0.0 | object\n",
      "year | 0.0 | int64\n",
      "desplazamiento | 0.0037909558624424585 | float64\n",
      "cilindros | 0.003845112374763065 | float64\n",
      "transmision | 0.00029786081776333605 | object\n",
      "traccion | 0.02158137015976171 | object\n",
      "clase | 0.0 | object\n",
      "combustible | 0.0 | object\n",
      "consumo | 0.0 | int64\n",
      "co2 | 0.0 | float64\n"
     ]
    }
   ],
   "source": [
    "valores_inexistentes_col(vehiculos)"
   ]
  },
  {
   "cell_type": "markdown",
   "metadata": {},
   "source": [
    "Ahora vemos que no hay valores inexistentes extremos en ninguna variable. La variable con mayor numero de valores inexistentes es traccion (2%). Obviamente, los coches electricos no tienen motor de gasolina y por tanto, no tienen cilindros"
   ]
  },
  {
   "cell_type": "markdown",
   "metadata": {},
   "source": [
    "### Conclusion\n",
    "- Hay 1506 records duplicados (los hemos removido)\n",
    "- las variables `desplazamiento, cilindros, transmision y traccion tienen valores inexistentes`\n",
    "- La variable `combustible` tiene una clase dominante (65% de coches tienen combustible `Regular`)\n",
    "- hay un outlier en la cantidad de coches con variable year de 2018\n",
    "- Hay coches hibridos y coches electricos (hemos removido estos ultimos ya que no contaminan)."
   ]
  },
  {
   "cell_type": "markdown",
   "metadata": {},
   "source": [
    "### Exportamos"
   ]
  },
  {
   "cell_type": "code",
   "execution_count": 27,
   "metadata": {
    "collapsed": true
   },
   "outputs": [],
   "source": [
    "vehiculos_no_electricos.to_csv(\"../data/vehiculos.2.limpio_analisis.csv\", index=False)"
   ]
  }
 ],
 "metadata": {
  "kernelspec": {
   "display_name": "Python 3",
   "language": "python",
   "name": "python3"
  },
  "language_info": {
   "codemirror_mode": {
    "name": "ipython",
    "version": 3
   },
   "file_extension": ".py",
   "mimetype": "text/x-python",
   "name": "python",
   "nbconvert_exporter": "python",
   "pygments_lexer": "ipython3",
   "version": "3.6.1"
  }
 },
 "nbformat": 4,
 "nbformat_minor": 2
}
